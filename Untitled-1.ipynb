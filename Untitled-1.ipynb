{
 "cells": [
  {
   "cell_type": "markdown",
   "metadata": {},
   "source": [
    "# **Nhóm 7**\n",
    "\n",
    "1.   Nguyễn Thị Phương Mai K224131544\n",
    "2.   Nguyễn Hồ Minh Nguyệt K224131549\n",
    "3.   Phạm Thị Hoài Thư K224131560\n"
   ]
  },
  {
   "cell_type": "markdown",
   "metadata": {},
   "source": [
    "# **PHÂN TÍCH MÔ TẢ**"
   ]
  },
  {
   "cell_type": "code",
   "execution_count": 1,
   "metadata": {},
   "outputs": [
    {
     "name": "stderr",
     "output_type": "stream",
     "text": [
      "2024-11-14 14:44:18.062 Thread 'MainThread': missing ScriptRunContext! This warning can be ignored when running in bare mode.\n",
      "2024-11-14 14:44:18.531 \n",
      "  \u001b[33m\u001b[1mWarning:\u001b[0m to view this Streamlit app on a browser, run it with the following\n",
      "  command:\n",
      "\n",
      "    streamlit run c:\\Users\\Thu\\AppData\\Local\\Programs\\Python\\Python313\\Lib\\site-packages\\ipykernel_launcher.py [ARGUMENTS]\n",
      "2024-11-14 14:44:18.580 Thread 'MainThread': missing ScriptRunContext! This warning can be ignored when running in bare mode.\n"
     ]
    },
    {
     "data": {
      "text/plain": [
       "DeltaGenerator()"
      ]
     },
     "execution_count": 1,
     "metadata": {},
     "output_type": "execute_result"
    }
   ],
   "source": [
    "import pandas as pd\n",
    "import requests\n",
    "from io import StringIO\n",
    "import streamlit as st\n",
    "\n",
    "url = 'https://drive.google.com/file/d/1viztnEQaMsATM7efkgprx87ybFXHNQly/view?usp=drive_link'\n",
    "\n",
    "file_id = url.split('/')[-2]\n",
    "dwn_url = 'https://drive.google.com/uc?export=download&id=' + file_id\n",
    "url2 = requests.get(dwn_url).text\n",
    "csv_raw = StringIO(url2)\n",
    "\n",
    "df = pd.read_csv(csv_raw)\n",
    "\n",
    "st.dataframe(df)\n"
   ]
  },
  {
   "cell_type": "code",
   "execution_count": null,
   "metadata": {},
   "outputs": [],
   "source": [
    "st.subheader(\"Thông tin DataFrame\")\n",
    "st.write(df.dtypes)"
   ]
  },
  {
   "cell_type": "code",
   "execution_count": null,
   "metadata": {},
   "outputs": [],
   "source": [
    "st.subheader(\"Mô tả thống kê cho các biến số\")\n",
    "st.write(df.describe())"
   ]
  },
  {
   "cell_type": "code",
   "execution_count": null,
   "metadata": {},
   "outputs": [],
   "source": [
    "st.subheader(\"Số lượng giá trị null trong mỗi cột\")\n",
    "st.write(df.isnull().sum())"
   ]
  },
  {
   "cell_type": "code",
   "execution_count": null,
   "metadata": {},
   "outputs": [],
   "source": [
    "st.title(\"Xử lý giá trị thiếu trong DataFrame\")\n",
    "for column in df.columns:\n",
    "    if df[column].isnull().any():\n",
    "        if df[column].dtype == 'object':\n",
    "            mode_value = df[column].mode()[0]\n",
    "            df[column].fillna(mode_value, inplace=True)\n",
    "        else:\n",
    "            mean_value = df[column].mean()\n",
    "            df[column].fillna(mean_value, inplace=True)\n",
    "\n",
    "st.subheader(\"DataFrame sau khi xử lý\")\n",
    "st.write(df)\n"
   ]
  },
  {
   "cell_type": "code",
   "execution_count": 2,
   "metadata": {},
   "outputs": [
    {
     "name": "stderr",
     "output_type": "stream",
     "text": [
      "2024-11-14 14:49:37.191 Thread 'MainThread': missing ScriptRunContext! This warning can be ignored when running in bare mode.\n",
      "2024-11-14 14:49:37.191 Thread 'MainThread': missing ScriptRunContext! This warning can be ignored when running in bare mode.\n"
     ]
    }
   ],
   "source": [
    "st.write(df.isnull().sum())"
   ]
  },
  {
   "cell_type": "code",
   "execution_count": null,
   "metadata": {},
   "outputs": [],
   "source": [
    "df.columns = [col.lower().replace(' ', '_') for col in df.columns]\n",
    "df.rename(columns=lambda x: x.replace(\"(\", \"\").replace(\")\", \"\"), inplace=True)\n",
    "st.write(df.info())"
   ]
  },
  {
   "cell_type": "code",
   "execution_count": null,
   "metadata": {},
   "outputs": [],
   "source": [
    "df.drop([\"customer_email\", \"customer_fname\", \"customer_lname\", \"customer_id\", \"customer_password\", \"customer_street\", \n",
    "         \"customer_zipcode\", \"department_id\", \"department_name\", \"order_item_cardprod_id\", \"order_state\", \n",
    "         \"product_description\", \"product_status\", \"product_image\"], axis=1, inplace=True)\n",
    "\n",
    "st.write(df)"
   ]
  },
  {
   "cell_type": "code",
   "execution_count": null,
   "metadata": {},
   "outputs": [],
   "source": [
    "st.write(df.duplicated().sum())"
   ]
  },
  {
   "cell_type": "code",
   "execution_count": null,
   "metadata": {},
   "outputs": [],
   "source": [
    "st.write(df[df.apply(lambda row: row.astype(str).str.contains('\\?').any(), axis=1)])"
   ]
  },
  {
   "cell_type": "code",
   "execution_count": null,
   "metadata": {},
   "outputs": [],
   "source": [
    "for i in df.columns:\n",
    "    for j in range(len(df[i])):\n",
    "        value = str(df[i][j])\n",
    "        if '?' in value:\n",
    "            df.at[j, i] = value.replace('?', '')"
   ]
  },
  {
   "cell_type": "code",
   "execution_count": null,
   "metadata": {},
   "outputs": [],
   "source": [
    "import matplotlib.pyplot as plt\n",
    "st.subheader(\"Biểu đồ phân phối và hộp cho 'days_for_shipping_real\")\n",
    "fig, axes = plt.subplots(nrows=1, ncols=2, figsize=(15, 5))\n",
    "df[[\"days_for_shipping_real\"]].hist(bins=50, ax=axes[0])\n",
    "df[[\"days_for_shipping_real\"]].boxplot(ax=axes[1], vert=False)\n",
    "st.pyplot(fig)"
   ]
  },
  {
   "cell_type": "code",
   "execution_count": null,
   "metadata": {},
   "outputs": [],
   "source": [
    "import streamlit as st\n",
    "import pandas as pd\n",
    "import matplotlib.pyplot as plt\n",
    "from typing import Tuple\n",
    "from sklearn.base import BaseEstimator, TransformerMixin\n",
    "\n",
    "def find_boxplot_boundaries(\n",
    "    col: pd.Series, whisker_coeff: float = 1.5) -> Tuple[float, float]:\n",
    "    Q1 = col.quantile(0.25)\n",
    "    Q3 = col.quantile(0.75)\n",
    "    IQR = Q3 - Q1\n",
    "    lower = Q1 - whisker_coeff * IQR\n",
    "    upper = Q3 + whisker_coeff * IQR\n",
    "    return lower, upper\n",
    "\n",
    "class BoxplotOutlierClipper(BaseEstimator, TransformerMixin):\n",
    "    def __init__(self, whisker_coeff: float = 1.5):\n",
    "        self.whisker = whisker_coeff\n",
    "        self.lower = None\n",
    "        self.upper = None\n",
    "\n",
    "    def fit(self, X: pd.Series):\n",
    "        self.lower, self.upper = find_boxplot_boundaries(X, self.whisker)\n",
    "        return self\n",
    "\n",
    "    def transform(self, X):\n",
    "        return X.clip(self.lower, self.upper)\n",
    "\n",
    "clipped_benefit_per_order = BoxplotOutlierClipper().fit_transform(df[\"days_for_shipping_real\"])\n",
    "\n",
    "st.subheader(\"Biểu đồ phân phối và hộp cho 'days_for_shipping_real' sau khi xử lý outliers\")\n",
    "fig, axes = plt.subplots(nrows=1, ncols=2, figsize=(15, 5))\n",
    "\n",
    "clipped_benefit_per_order.hist(bins=50, ax=axes[0])\n",
    "clipped_benefit_per_order.to_frame().boxplot(ax=axes[1], vert=False)\n",
    "st.pyplot(fig)"
   ]
  },
  {
   "cell_type": "code",
   "execution_count": null,
   "metadata": {},
   "outputs": [],
   "source": [
    "st.subheader(\"Biểu đồ phân phối và hộp cho 'days_for_shipment_scheduled'\")\n",
    "\n",
    "fig, axes = plt.subplots(nrows=1, ncols=2, figsize=(15, 5))\n",
    "\n",
    "df[[\"days_for_shipment_scheduled\"]].hist(bins=50, ax=axes[0])\n",
    "df[[\"days_for_shipment_scheduled\"]].boxplot(ax=axes[1], vert=False)\n",
    "\n",
    "st.pyplot(fig)"
   ]
  },
  {
   "cell_type": "code",
   "execution_count": null,
   "metadata": {},
   "outputs": [],
   "source": [
    "import streamlit as st\n",
    "import pandas as pd\n",
    "import matplotlib.pyplot as plt\n",
    "from typing import Tuple\n",
    "from sklearn.base import BaseEstimator, TransformerMixin\n",
    "\n",
    "def find_boxplot_boundaries(\n",
    "    col: pd.Series, whisker_coeff: float = 1.5) -> Tuple[float, float]:\n",
    "    Q1 = col.quantile(0.25)\n",
    "    Q3 = col.quantile(0.75)\n",
    "    IQR = Q3 - Q1\n",
    "    lower = Q1 - whisker_coeff * IQR\n",
    "    upper = Q3 + whisker_coeff * IQR\n",
    "    return lower, upper\n",
    "\n",
    "class BoxplotOutlierClipper(BaseEstimator, TransformerMixin):\n",
    "    def __init__(self, whisker_coeff: float = 1.5):\n",
    "        self.whisker = whisker_coeff\n",
    "        self.lower = None\n",
    "        self.upper = None\n",
    "\n",
    "    def fit(self, X: pd.Series):\n",
    "        self.lower, self.upper = find_boxplot_boundaries(X, self.whisker)\n",
    "        return self\n",
    "\n",
    "    def transform(self, X):\n",
    "        return X.clip(self.lower, self.upper)\n",
    "\n",
    "clipped_order_profit_per_order = BoxplotOutlierClipper().fit_transform(df[\"days_for_shipment_scheduled\"])\n",
    "\n",
    "st.subheader(\"Biểu đồ phân phối và hộp cho 'days_for_shipment_scheduled' sau khi xử lý outliers\")\n",
    "\n",
    "fig, axes = plt.subplots(nrows=1, ncols=2, figsize=(15, 5))\n",
    "clipped_order_profit_per_order.hist(bins=50, ax=axes[0])\n",
    "clipped_order_profit_per_order.to_frame().boxplot(ax=axes[1], vert=False)\n",
    "\n",
    "st.pyplot(fig)\n"
   ]
  },
  {
   "cell_type": "code",
   "execution_count": null,
   "metadata": {},
   "outputs": [],
   "source": [
    "df_1=df.copy()"
   ]
  },
  {
   "cell_type": "code",
   "execution_count": null,
   "metadata": {},
   "outputs": [],
   "source": [
    "import streamlit as st\n",
    "import seaborn as sns\n",
    "\n",
    "st.subheader('Market Distribution')\n",
    "fig, ax = plt.subplots()\n",
    "df['market'].value_counts().plot.pie(autopct='%1.1f%%', startangle=90, colors=sns.color_palette('pastel'), ax=ax)\n",
    "ax.set_ylabel('')\n",
    "ax.set_title('Market Distribution')\n",
    "st.pyplot(fig)\n",
    "\n",
    "st.subheader('Customer Segment Distribution')\n",
    "fig, ax = plt.subplots()\n",
    "df['customer_segment'].value_counts().plot.pie(autopct='%1.1f%%', startangle=90, colors=sns.color_palette('pastel'), ax=ax)\n",
    "ax.set_ylabel('')\n",
    "ax.set_title('Customer Segment Distribution')\n",
    "st.pyplot(fig)\n"
   ]
  },
  {
   "cell_type": "code",
   "execution_count": null,
   "metadata": {},
   "outputs": [],
   "source": [
    "import streamlit as st\n",
    "import seaborn as sns\n",
    "import matplotlib.pyplot as plt\n",
    "\n",
    "st.subheader('Count of Each Category Name')\n",
    "category_counts = df['category_name'].value_counts()\n",
    "fig, ax = plt.subplots(figsize=(12, 6))\n",
    "sns.barplot(x=category_counts.index, y=category_counts.values, palette='coolwarm', ax=ax)\n",
    "ax.set_title('Count of Each Category Name')\n",
    "ax.set_xlabel('Category Name')\n",
    "ax.set_ylabel('Count')\n",
    "ax.set_xticklabels(ax.get_xticklabels(), rotation=45, ha='right')\n",
    "st.pyplot(fig)\n",
    "\n",
    "st.subheader('Top 10 Most Common Products')\n",
    "product_counts = df['product_name'].value_counts().nlargest(10)\n",
    "fig, ax = plt.subplots(figsize=(12, 6))\n",
    "sns.barplot(x=product_counts.index, y=product_counts.values, palette='coolwarm', ax=ax)\n",
    "ax.set_title('Top 10 Most Common Products')\n",
    "ax.set_xlabel('Product Name')\n",
    "ax.set_ylabel('Count')\n",
    "ax.set_xticklabels(ax.get_xticklabels(), rotation=45, ha='right')\n",
    "st.pyplot(fig)\n"
   ]
  },
  {
   "cell_type": "code",
   "execution_count": null,
   "metadata": {},
   "outputs": [],
   "source": [
    "import streamlit as st\n",
    "import pandas as pd\n",
    "from sklearn.preprocessing import LabelEncoder\n",
    "\n",
    "object_columns = df.select_dtypes(include=['object']).columns.tolist()\n",
    "\n",
    "for column in object_columns:\n",
    "    df[column] = df[column].astype(str)\n",
    "    label_encoder = LabelEncoder()\n",
    "    df[column] = label_encoder.fit_transform(df[column])\n",
    "\n",
    "st.write(df.info())\n"
   ]
  },
  {
   "cell_type": "code",
   "execution_count": null,
   "metadata": {},
   "outputs": [],
   "source": [
    "df['late_days'] = df['days_for_shipping_real'] - df['days_for_shipment_scheduled']\n",
    "df['late_days']"
   ]
  },
  {
   "cell_type": "code",
   "execution_count": null,
   "metadata": {},
   "outputs": [],
   "source": [
    "import streamlit as st\n",
    "import seaborn as sns\n",
    "import matplotlib.pyplot as plt\n",
    "\n",
    "st.subheader('Distribution of Days for Shipping (real)')\n",
    "fig, ax = plt.subplots(figsize=(14, 6))\n",
    "sns.histplot(df['days_for_shipping_real'], kde=True, color='skyblue', ax=ax)\n",
    "ax.set_title('Distribution of Days for Shipping (real)')\n",
    "ax.set_xlabel('days_for_shipping_real')\n",
    "ax.set_ylabel('Frequency')\n",
    "st.pyplot(fig)\n",
    "\n",
    "st.subheader('Distribution of Days for Shipment (scheduled)')\n",
    "fig, ax = plt.subplots(figsize=(14, 6))\n",
    "sns.histplot(df['days_for_shipment_scheduled'], kde=True, color='skyblue', ax=ax)\n",
    "ax.set_title('Distribution of Days for Shipment (scheduled)')\n",
    "ax.set_xlabel('days_for_shipment_scheduled')\n",
    "ax.set_ylabel('Frequency')\n",
    "st.pyplot(fig)"
   ]
  },
  {
   "cell_type": "code",
   "execution_count": null,
   "metadata": {},
   "outputs": [],
   "source": [
    "numeric_df = df.select_dtypes(include=['number'])\n",
    "correlation_matrix = numeric_df.corr()\n",
    "\n",
    "st.write(\"Correlation Matrix:\")\n",
    "st.write(correlation_matrix)"
   ]
  },
  {
   "cell_type": "code",
   "execution_count": null,
   "metadata": {},
   "outputs": [],
   "source": [
    "import streamlit as st\n",
    "import matplotlib.pyplot as plt\n",
    "import seaborn as sns\n",
    "\n",
    "st.subheader('Correlation Heatmap')\n",
    "fig, ax = plt.subplots(figsize=(16, 14))\n",
    "sns.heatmap(df.corr(numeric_only=True), annot=True, cmap='coolwarm', vmin=-1, vmax=1, annot_kws={\"size\": 8}, fmt=\".2f\", ax=ax)\n",
    "ax.set_title('Correlation Heatmap')\n",
    "\n",
    "st.pyplot(fig)\n"
   ]
  },
  {
   "cell_type": "markdown",
   "metadata": {},
   "source": [
    "Phân tích dự đoán"
   ]
  },
  {
   "cell_type": "markdown",
   "metadata": {},
   "source": [
    "Rủi ro giao hàng trễ"
   ]
  },
  {
   "cell_type": "code",
   "execution_count": null,
   "metadata": {},
   "outputs": [],
   "source": [
    "df_copy = df[['type', 'days_for_shipment_scheduled', 'delivery_status', 'late_delivery_risk', 'category_id',\n",
    "              'customer_city', 'customer_country', 'customer_segment', 'customer_state', 'latitude', 'longitude',\n",
    "              'order_country', 'order_city', 'order_item_product_price', 'order_item_quantity', 'order_status',\n",
    "              'product_card_id', 'product_price', 'shipping_date_dateorders', 'shipping_mode', 'late_days',\n",
    "              'order_date_dateorders', 'order_region', 'market']]"
   ]
  },
  {
   "cell_type": "code",
   "execution_count": null,
   "metadata": {},
   "outputs": [],
   "source": [
    "c = df.corr\n",
    "st.write(c['late_delivery_risk'])"
   ]
  },
  {
   "cell_type": "code",
   "execution_count": null,
   "metadata": {},
   "outputs": [],
   "source": [
    "delivery_status_data = df_1['delivery_status']\n",
    "delivery_status_summary = delivery_status_data.value_counts()\n",
    "\n",
    "st.write(\"Delivery Status Summary:\")\n",
    "st.write(delivery_status_summary)\n",
    "\n",
    "plt.figure(figsize=(10, 6))\n",
    "sns.set(style=\"whitegrid\")\n",
    "sns.countplot(data=df_1, x='delivery_status', order=delivery_status_summary.index, palette='coolwarm')\n",
    "plt.title('Delivery Status Distribution')\n",
    "plt.xlabel('Delivery Status')\n",
    "plt.ylabel('Count')\n",
    "st.pyplot(plt.gcf())\n"
   ]
  },
  {
   "cell_type": "code",
   "execution_count": null,
   "metadata": {},
   "outputs": [],
   "source": [
    "df_copy['late_days'].value_counts().plot.pie(legend = [\"0\", \"1\"])"
   ]
  },
  {
   "cell_type": "code",
   "execution_count": null,
   "metadata": {},
   "outputs": [],
   "source": [
    "delivery_status_data = df_1['delivery_status']\n",
    "shipping_mode_data = df_1['shipping_mode']\n",
    "\n",
    "cross_tab = pd.crosstab(shipping_mode_data, delivery_status_data)\n",
    "cross_tab_percent = cross_tab.div(cross_tab.sum(1), axis=0) * 100\n",
    "\n",
    "st.write(\"Cross-Tabulation (Contingency Table) with Percentages:\")\n",
    "st.write(cross_tab_percent)\n",
    "\n",
    "st.subheader('Delivery Status by Shipping Mode (Percentage)')\n",
    "fig, ax = plt.subplots(figsize=(12, 8))\n",
    "cross_tab_percent.plot(kind=\"bar\", stacked=True, colormap='Set2', ax=ax)\n",
    "ax.set_title('Delivery Status by Shipping Mode (Percentage)')\n",
    "ax.set_xlabel('Shipping Mode')\n",
    "ax.set_ylabel('Percentage')\n",
    "st.pyplot(fig)"
   ]
  },
  {
   "cell_type": "code",
   "execution_count": null,
   "metadata": {},
   "outputs": [],
   "source": [
    "late_delivery_data = df_1[df_1['delivery_status'] == 'Late delivery']\n",
    "late_by_product = late_delivery_data['category_name'].value_counts().nlargest(10).reset_index()\n",
    "\n",
    "plt.figure(figsize=(12, 6))\n",
    "sns.barplot(x=late_by_product['index'], y=late_by_product['category_name'], palette='coolwarm')\n",
    "plt.title('Top 10 Product Categories with Late Deliveries')\n",
    "plt.xlabel('Category Name')\n",
    "plt.ylabel('Quantity')\n",
    "plt.xticks(rotation=45, ha='right')\n",
    "\n",
    "st.pyplot(plt)"
   ]
  },
  {
   "cell_type": "code",
   "execution_count": null,
   "metadata": {},
   "outputs": [],
   "source": [
    "group = df_1.groupby(['market', 'delivery_status']).market.count().unstack()\n",
    "\n",
    "plt.figure(figsize=(10, 6))\n",
    "group.plot(kind='bar', ax=plt.gca())\n",
    "plt.title('Delivery Status by Market')\n",
    "plt.xlabel('Market')\n",
    "plt.ylabel('Count')\n",
    "\n",
    "st.pyplot(plt)"
   ]
  },
  {
   "cell_type": "code",
   "execution_count": null,
   "metadata": {},
   "outputs": [],
   "source": [
    "pip install xgboost"
   ]
  },
  {
   "cell_type": "code",
   "execution_count": null,
   "metadata": {},
   "outputs": [],
   "source": [
    "import pandas as pd\n",
    "import numpy as np\n",
    "from sklearn.model_selection import train_test_split\n",
    "from sklearn.preprocessing import StandardScaler\n",
    "from sklearn.linear_model import LogisticRegression\n",
    "from sklearn.metrics import accuracy_score, roc_auc_score\n",
    "\n",
    "from sklearn.model_selection import cross_val_score\n",
    "from sklearn.decomposition import PCA\n",
    "from sklearn.svm import SVC\n",
    "from sklearn.tree import DecisionTreeClassifier\n",
    "from sklearn.ensemble import RandomForestClassifier\n",
    "from sklearn.ensemble import AdaBoostClassifier\n",
    "from sklearn.ensemble import GradientBoostingClassifier\n",
    "from sklearn.naive_bayes import GaussianNB\n",
    "from xgboost import XGBClassifier\n",
    "from sklearn.neighbors import KNeighborsClassifier\n",
    "from sklearn.ensemble import ExtraTreesClassifier, BaggingClassifier\n",
    "from sklearn.discriminant_analysis import QuadraticDiscriminantAnalysis, LinearDiscriminantAnalysis\n",
    "import matplotlib.pyplot as plt\n",
    "import seaborn as sns"
   ]
  },
  {
   "cell_type": "code",
   "execution_count": null,
   "metadata": {},
   "outputs": [],
   "source": [
    "target1 = 'late_delivery_risk'\n",
    "if target1 not in df_1.columns:\n",
    "    raise ValueError(f\"The target variable '{target1}' is not present in the dataset.\")"
   ]
  },
  {
   "cell_type": "code",
   "execution_count": null,
   "metadata": {},
   "outputs": [],
   "source": [
    "pip install imbalanced-learn"
   ]
  },
  {
   "cell_type": "code",
   "execution_count": null,
   "metadata": {},
   "outputs": [],
   "source": [
    "from imblearn.over_sampling import SMOTE\n",
    "\n",
    "X = df_copy.drop(target1, axis=1)\n",
    "y = df_copy[target1]\n",
    "\n",
    "smote = SMOTE(random_state=42)\n",
    "X_balanced, y_balanced = smote.fit_resample(X, y)\n",
    "\n",
    "y = y_balanced\n",
    "X = X_balanced\n",
    "\n",
    "class_counts = pd.Series(y_balanced).value_counts()\n",
    "\n",
    "st.write(\"Số lượng lớp 0 sau khi cân bằng:\", class_counts[0])\n",
    "st.write(\"Số lượng lớp 1 sau khi cân bằng:\", class_counts[1])"
   ]
  },
  {
   "cell_type": "code",
   "execution_count": null,
   "metadata": {},
   "outputs": [],
   "source": [
    "X_train, X_test, y_train, y_test = train_test_split(X, y, test_size=0.3, random_state=42)\n",
    "\n",
    "scaler = StandardScaler()\n",
    "X_train = scaler.fit_transform(X_train)\n",
    "X_test = scaler.transform(X_test)\n",
    "\n",
    "models = [\n",
    "    (\"Decision Tree\", DecisionTreeClassifier()),\n",
    "    (\"Random Forest\", RandomForestClassifier()),\n",
    "    (\"Gaussian Naive Bayes\", GaussianNB()),\n",
    "    (\"Logistic Regression\", LogisticRegression()),\n",
    "    (\"KNeighbors\", KNeighborsClassifier())\n",
    "]\n",
    "\n",
    "output = {'Model': [], 'Accuracy': [], 'Precision': [], 'Recall': [], 'F1-score': []}\n",
    "\n",
    "for model_name, model in models:\n",
    "    accuracy_scores = cross_val_score(model, X_train, y_train, cv=5, scoring='accuracy')\n",
    "    precision_scores = cross_val_score(model, X_train, y_train, cv=5, scoring='precision')\n",
    "    recall_scores = cross_val_score(model, X_train, y_train, cv=5, scoring='recall')\n",
    "    f1_scores = cross_val_score(model, X_train, y_train, cv=5, scoring='f1')\n",
    "    \n",
    "    output['Model'].append(model_name)\n",
    "    output['Accuracy'].append(np.mean(accuracy_scores))\n",
    "    output['Precision'].append(np.mean(precision_scores))\n",
    "    output['Recall'].append(np.mean(recall_scores))\n",
    "    output['F1-score'].append(np.mean(f1_scores))\n",
    "\n",
    "output_df = pd.DataFrame(output)\n",
    "\n",
    "st.title(\"Model Performance Evaluation\")\n",
    "st.write(\"Here are the performance metrics for various machine learning models:\")\n",
    "\n",
    "st.dataframe(output_df)"
   ]
  },
  {
   "cell_type": "code",
   "execution_count": null,
   "metadata": {},
   "outputs": [],
   "source": [
    "from sklearn.decomposition import PCA\n",
    "from sklearn.model_selection import  KFold, cross_val_score, StratifiedKFold\n",
    "import numpy as np\n",
    "import pandas as pd\n",
    "\n",
    "pca = PCA(n_components=0.8)\n",
    "\n",
    "X_train_pca = pca.fit_transform(X_train)\n",
    "X_test_pca = pca.transform(X_test)\n",
    "\n",
    "models = [\n",
    "    (\"Decision Tree\", DecisionTreeClassifier()),\n",
    "    (\"Random Forest\", RandomForestClassifier()),\n",
    "    (\"Gaussian Naive Bayes\", GaussianNB()),\n",
    "    (\"Logistic Regression\", LogisticRegression()),\n",
    "    (\"KNeighbors\", KNeighborsClassifier())\n",
    "]\n",
    "\n",
    "output = {'Model': [], 'Accuracy': [], 'Precision': [], 'Recall': [], 'F1-score': []}\n",
    "for model_name, model in models:\n",
    "    model.fit(X_train_pca, y_train)\n",
    "    accuracy_scores = cross_val_score(model, X_test_pca, y_test, scoring='accuracy')\n",
    "    precision_scores = cross_val_score(model, X_test_pca, y_test, scoring='precision')\n",
    "    recall_scores = cross_val_score(model, X_test_pca, y_test, scoring='recall')\n",
    "    f1_scores = cross_val_score(model, X_test_pca, y_test, scoring='f1')\n",
    "    \n",
    "    output['Model'].append(model_name)\n",
    "    output['Accuracy'].append(np.mean(accuracy_scores))\n",
    "    output['Precision'].append(np.mean(precision_scores))\n",
    "    output['Recall'].append(np.mean(recall_scores))\n",
    "    output['F1-score'].append(np.mean(f1_scores))\n",
    "\n",
    "output_df = pd.DataFrame(output)\n",
    "\n",
    "st.write(output_df)"
   ]
  },
  {
   "cell_type": "code",
   "execution_count": null,
   "metadata": {},
   "outputs": [],
   "source": [
    "def frequency_encoding(df, column):\n",
    "    frequency_map = df[column].value_counts(normalize=True)\n",
    "    df[column + '_freq_encoded'] = df[column].map(frequency_map)\n",
    "    return df\n",
    "\n",
    "instances_to_predict = pd.DataFrame({\n",
    "    'Type': ['DEBIT','DEBIT'],\n",
    "    'Days for shipment (scheduled)': [5,6],\n",
    "    'Delivery Status': ['Advance shipping','Advance shipping'],\n",
    "    'Category Id': [17,17],\n",
    "    'Category Name': ['Cleats','Cleats'],\n",
    "    'Customer City': ['Los Angeles','Los Angeles'],\n",
    "    'Customer Country': ['EE. UU.', 'EE. UU.'],\n",
    "    'Customer Segment': ['Corporate','Corporate'],\n",
    "    'Customer State': ['NY','NY'],\n",
    "    'Latitude': [17.24253835,17.24253835],\n",
    "    'Longitude': [-65.03704823,-65.03704823],\n",
    "    'Order City': ['Bikaner','Bikaner'],\n",
    "    'Order Country': ['India','India'],\n",
    "    'Order Item Product Price': [327.75,327.75],\n",
    "    'Order Item Quantity': [2,2],\n",
    "    'Order Status': ['COMPLETE','COMPLETE'],\n",
    "    'Product Card Id': [1360,1360],\n",
    "    'Product Price': [327.75,327.75],\n",
    "    'Order Region': ['Southeast Asia','Southeast Asia'],\n",
    "    'Market': ['Asia','Asia']\n",
    "})\n",
    "\n",
    "columns_to_encode = ['Type', 'Delivery Status','Category Name','Customer City','Customer Country','Customer Segment',\n",
    "                    'Customer State','Order City','Order Country','Order Status','Order Region','Market']\n",
    "\n",
    "for column in columns_to_encode:\n",
    "    instances_to_predict = frequency_encoding(instances_to_predict, column)\n",
    "\n",
    "instances_to_predict.drop(columns=columns_to_encode, inplace=True)\n",
    "\n",
    "scaler = StandardScaler()\n",
    "instances_to_predict_scaled = scaler.fit_transform(instances_to_predict)\n",
    "\n",
    "X_train = np.random.rand(10, instances_to_predict_scaled.shape[1])\n",
    "y_train = np.random.randint(0, 2, 10)  # Random binary labels\n",
    "\n",
    "gb_model = XGBClassifier()\n",
    "gb_model.fit(X_train, y_train)\n",
    "\n",
    "predictions = gb_model.predict(instances_to_predict_scaled)\n",
    "\n",
    "st.title(\"Late Delivery Prediction\")\n",
    "\n",
    "st.write(\"### Input Data (Instances to Predict):\")\n",
    "st.write(instances_to_predict)\n",
    "st.write(\"### Predictions:\")\n",
    "st.write(\"Case 1: Predicted Late Delivery:\", \"Yes\" if predictions[0] == 1 else \"No\")\n",
    "st.write(\"Case 2: Predicted Late Delivery:\", \"Yes\" if predictions[1] == 1 else \"No\")"
   ]
  },
  {
   "cell_type": "markdown",
   "metadata": {},
   "source": [
    "Dự đoán doanh số mỗi khách hàng tạo ra"
   ]
  },
  {
   "cell_type": "code",
   "execution_count": null,
   "metadata": {},
   "outputs": [],
   "source": [
    "df_copy2=df[[\"sales\",\"delivery_status\",\"category_id\",\"customer_city\",\"customer_country\",\"customer_segment\",\"customer_state\",\"order_country\",\"order_city\",\n",
    "            \"order_item_product_price\",\"order_item_quantity\",\"order_status\",\"product_card_id\",\"product_price\",\"order_region\",\"market\"]]"
   ]
  },
  {
   "cell_type": "code",
   "execution_count": null,
   "metadata": {},
   "outputs": [],
   "source": [
    "c = df.corr()\n",
    "\n",
    "st.write(\"Correlation with 'sales':\")\n",
    "st.write(c['sales'])"
   ]
  },
  {
   "cell_type": "code",
   "execution_count": null,
   "metadata": {},
   "outputs": [],
   "source": [
    "df['order_date_dateorders'] = pd.to_datetime(df['order_date_dateorders'])\n",
    "\n",
    "plt.figure(figsize=(14, 6))\n",
    "df.groupby('order_date_dateorders')['sales'].sum().plot()\n",
    "plt.title('Total Sales Over Time')\n",
    "plt.xlabel('Date')\n",
    "plt.ylabel('Sales')\n",
    "\n",
    "st.pyplot(plt)"
   ]
  },
  {
   "cell_type": "code",
   "execution_count": null,
   "metadata": {},
   "outputs": [],
   "source": [
    "market_sales = df.groupby('market')['sales'].sum()\n",
    "\n",
    "top_n_markets = market_sales.sort_values(ascending=False).head(10)\n",
    "\n",
    "plt.figure(figsize=(12, 6))\n",
    "top_n_markets.plot(kind='bar')\n",
    "plt.title('Top Markets by Total Sales')\n",
    "plt.xlabel('Market')\n",
    "plt.ylabel('Total Sales')\n",
    "plt.xticks(rotation=45, ha='right')\n",
    "plt.tight_layout()\n",
    "\n",
    "st.pyplot(plt)"
   ]
  },
  {
   "cell_type": "code",
   "execution_count": null,
   "metadata": {},
   "outputs": [],
   "source": [
    "plt.figure(figsize=(12, 6))\n",
    "sns.barplot(x='category_name', y='sales', data=df_1)\n",
    "plt.title('Doanh thu theo loại hàng')\n",
    "plt.xlabel('Loại hàng')\n",
    "plt.ylabel('Doanh thu')\n",
    "plt.xticks(rotation=45, ha='right')\n",
    "plt.tight_layout()\n",
    "\n",
    "st.pyplot(plt)"
   ]
  },
  {
   "cell_type": "code",
   "execution_count": null,
   "metadata": {},
   "outputs": [],
   "source": [
    "target2 = 'sales'\n",
    "if target2 not in df_1.columns:\n",
    "    raise ValueError(f\"The target variable '{target2}' is not present in the dataset.\")"
   ]
  },
  {
   "cell_type": "code",
   "execution_count": null,
   "metadata": {},
   "outputs": [],
   "source": [
    "pip install scikit-learn"
   ]
  },
  {
   "cell_type": "code",
   "execution_count": null,
   "metadata": {},
   "outputs": [],
   "source": [
    "from sklearn.linear_model import LinearRegression\n",
    "from sklearn.preprocessing import PolynomialFeatures\n",
    "from sklearn.svm import SVR\n",
    "from sklearn.tree import DecisionTreeRegressor\n",
    "from sklearn.ensemble import RandomForestRegressor\n",
    "from sklearn.metrics import mean_squared_error, r2_score\n",
    "from sklearn.pipeline import make_pipeline\n",
    "\n",
    "X = df_copy2.drop(target2, axis=1)\n",
    "y = df_copy2[target2]\n",
    "\n",
    "X2_train, X2_test, y2_train, y2_test = train_test_split(X2, y2, test_size=0.3, random_state=42)\n",
    "\n",
    "scaler = StandardScaler()\n",
    "X2_train = scaler.fit_transform(X2_train)\n",
    "X2_test = scaler.transform(X2_test)\n",
    "\n",
    "models = {\n",
    "    'Multiple Linear Regression': LinearRegression(),\n",
    "    'Polynomial Regression': make_pipeline(PolynomialFeatures(degree=2), LinearRegression()),\n",
    "    'Support Vector Regression': SVR(),\n",
    "    'Decision Tree Regression': DecisionTreeRegressor(),\n",
    "    'Random Forest Regression': RandomForestRegressor()\n",
    "}\n",
    "\n",
    "results = {}\n",
    "for name, model in models.items():\n",
    "    model.fit(X2_train, y2_train)\n",
    "    y2_pred = model.predict(X2_test)\n",
    "\n",
    "    mse = mean_squared_error(y2_test, y2_pred)\n",
    "    r_square = r2_score(y2_test, y2_pred)\n",
    "    results[name] = {'MSE': mse, 'R^2': r_square}\n",
    "\n",
    "st.title(\"Model Performance Evaluation\")\n",
    "\n",
    "for model_name, metrics in results.items():\n",
    "    st.subheader(f\"{model_name} performance:\")\n",
    "    for metric, value in metrics.items():\n",
    "        st.write(f\"{metric}: {value:.4f}\")"
   ]
  },
  {
   "cell_type": "code",
   "execution_count": null,
   "metadata": {},
   "outputs": [],
   "source": [
    "def frequency_encoding(df, column):\n",
    "    frequency_map = df[column].value_counts(normalize=True)\n",
    "    df[column + '_freq_encoded'] = df[column].map(frequency_map)\n",
    "    return df\n",
    "\n",
    "instances_to_predict = pd.DataFrame({\n",
    "    'Delivery Status': ['Advance shipping','Advance shipping'],\n",
    "    'Category Id': [17,17],\n",
    "    'Customer City': ['Los Angeles','Los Angeles'],\n",
    "    'Customer Country': ['EE. UU.', 'EE. UU.'],\n",
    "    'Customer Segment': ['Corporate','Corporate'],\n",
    "    'Customer State': ['NY','NY'],\n",
    "    'Order City': ['Bikaner','Bikaner'],\n",
    "    'Order Country': ['India','India'],\n",
    "    'Order Item Product Price': [327.75,327.75],\n",
    "    'Order Item Quantity': [2,2],\n",
    "    'Order Status': ['COMPLETE','COMPLETE'],\n",
    "    'Product Card Id': [1360,1360],\n",
    "    'Product Price': [327.75,327.75],\n",
    "    'Order Region': ['Southeast Asia','Southeast Asia'],\n",
    "    'Market': ['Asia','Asia']\n",
    "})\n",
    "\n",
    "columns_to_encode = ['Delivery Status','Category Name','Customer City','Customer Country','Customer Segment',\n",
    "                    'Customer State','Order City','Order Country','Order Status','Order Region','Market']\n",
    "\n",
    "for column in columns_to_encode:\n",
    "    instances_to_predict = frequency_encoding(instances_to_predict, column)\n",
    "\n",
    "instances_to_predict.drop(columns=columns_to_encode, inplace=True)\n",
    "\n",
    "scaler = StandardScaler()\n",
    "instances_to_predict_scaled = scaler.fit_transform(instances_to_predict)\n",
    "\n",
    "X_train = np.random.rand(10, instances_to_predict_scaled.shape[1])\n",
    "y_train = np.random.randint(0, 2, 10)  # Random binary labels\n",
    "\n",
    "gb_model = XGBClassifier()\n",
    "gb_model.fit(X_train, y_train)\n",
    "\n",
    "predictions = gb_model.predict(instances_to_predict_scaled)\n",
    "\n",
    "st.write(\"Case 1: Predicted Sales:\", predictions[0])\n",
    "st.write(\"Case 2: Predicted Sales:\", predictions[1])"
   ]
  }
 ],
 "metadata": {
  "kernelspec": {
   "display_name": "Python 3",
   "language": "python",
   "name": "python3"
  },
  "language_info": {
   "codemirror_mode": {
    "name": "ipython",
    "version": 3
   },
   "file_extension": ".py",
   "mimetype": "text/x-python",
   "name": "python",
   "nbconvert_exporter": "python",
   "pygments_lexer": "ipython3",
   "version": "3.13.0"
  }
 },
 "nbformat": 4,
 "nbformat_minor": 2
}
